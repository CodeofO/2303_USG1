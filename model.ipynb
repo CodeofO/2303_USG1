{
 "cells": [
  {
   "attachments": {},
   "cell_type": "markdown",
   "metadata": {},
   "source": [
    "## import"
   ]
  },
  {
   "cell_type": "code",
   "execution_count": 1,
   "metadata": {},
   "outputs": [
    {
     "name": "stderr",
     "output_type": "stream",
     "text": [
      "/Users/jeong-geun-o/miniconda3/lib/python3.10/site-packages/torchvision/io/image.py:13: UserWarning: Failed to load image Python extension: dlopen(/Users/jeong-geun-o/miniconda3/lib/python3.10/site-packages/torchvision/image.so, 0x0006): Library not loaded: @rpath/libjpeg.8.dylib\n",
      "  Referenced from: <BE0CCD9A-269A-30E2-A23C-DA45E89EBB1F> /Users/jeong-geun-o/miniconda3/lib/python3.10/site-packages/torchvision/image.so\n",
      "  Reason: tried: '/Users/jeong-geun-o/miniconda3/lib/python3.10/site-packages/torchvision/../../../libjpeg.8.dylib' (no such file), '/Users/jeong-geun-o/miniconda3/lib/python3.10/site-packages/torchvision/../../../libjpeg.8.dylib' (no such file), '/Users/jeong-geun-o/miniconda3/lib/python3.10/lib-dynload/../../libjpeg.8.dylib' (no such file), '/Users/jeong-geun-o/miniconda3/bin/../lib/libjpeg.8.dylib' (no such file), '/System/Volumes/Preboot/Cryptexes/OS@rpath/libjpeg.8.dylib' (no such file), '/Users/jeong-geun-o/miniconda3/lib/python3.10/site-packages/torchvision/../../../libjpeg.8.dylib' (no such file), '/Users/jeong-geun-o/miniconda3/lib/python3.10/site-packages/torchvision/../../../libjpeg.8.dylib' (no such file), '/Users/jeong-geun-o/miniconda3/lib/python3.10/lib-dynload/../../libjpeg.8.dylib' (no such file), '/Users/jeong-geun-o/miniconda3/bin/../lib/libjpeg.8.dylib' (no such file), '/usr/local/lib/libjpeg.8.dylib' (no such file), '/usr/lib/libjpeg.8.dylib' (no such file, not in dyld cache)\n",
      "  warn(f\"Failed to load image Python extension: {e}\")\n"
     ]
    }
   ],
   "source": [
    "import torch\n",
    "import torch.nn as nn\n",
    "import torchvision.transforms as transforms\n",
    "import torchvision.datasets as datasets\n",
    "import torchvision.models as models\n",
    "import pandas as pd"
   ]
  },
  {
   "attachments": {},
   "cell_type": "markdown",
   "metadata": {},
   "source": [
    "# load data"
   ]
  },
  {
   "cell_type": "code",
   "execution_count": 2,
   "metadata": {},
   "outputs": [],
   "source": [
    "import os\n",
    "import shutil\n",
    "\n",
    "# 데이터셋 경로 설정하기\n",
    "dataset_path = './usg1_dataset/train_images/'\n",
    "dir = \"./usg1_dataset/\"\n",
    "image_dir = dir+'train_images/'\n",
    "train_csv_dir = dir+'train.csv'\n",
    "train_copy_dir = './usg1_dataset/train_copy/'\n",
    "test_dir = './usg1_dataset/test_images/'\n",
    "split_label_dir = dir + 'train_split_label/'"
   ]
  },
  {
   "cell_type": "code",
   "execution_count": 3,
   "metadata": {},
   "outputs": [],
   "source": [
    "os.makedirs(split_label_dir, exist_ok=True)\n",
    "\n",
    "train_dir = split_label_dir + '/train/'\n",
    "valid_dir = split_label_dir + '/valid/'\n",
    "test_dir = split_label_dir + '/test/'\n",
    "\n",
    "os.makedirs(split_label_dir + '/train', exist_ok=True)\n",
    "os.makedirs(split_label_dir + '/valid', exist_ok=True)\n",
    "os.makedirs(split_label_dir + '/test', exist_ok=True)\n",
    "\n",
    "\n",
    "shutil.rmtree(train_dir)\n",
    "shutil.rmtree(valid_dir)\n",
    "shutil.rmtree(test_dir)\n",
    "\n",
    "os.makedirs(split_label_dir + '/train', exist_ok=True)\n",
    "os.makedirs(split_label_dir + '/valid', exist_ok=True)\n",
    "os.makedirs(split_label_dir + '/test', exist_ok=True)\n",
    "\n",
    "\n",
    "# 레이블 이름 설정하기\n",
    "train_labels = pd.read_csv(train_csv_dir)\n",
    "labels = train_labels['label'].to_list() # 레이블 리스트\n",
    "labels_str = []\n",
    "for label in labels:\n",
    "    labels_str.append(str(label))\n",
    "\n",
    "# 하위 폴더 생성하기\n",
    "for label in labels_str:\n",
    "    os.makedirs(train_dir + label, exist_ok=True)\n",
    "    os.makedirs(valid_dir + label, exist_ok=True)"
   ]
  },
  {
   "cell_type": "code",
   "execution_count": 4,
   "metadata": {},
   "outputs": [],
   "source": [
    "import os\n",
    "from natsort import natsorted\n",
    "\n",
    "# 파일 이름 변경하기 \"\"\n",
    "\n",
    "# 1) copy : train_images => train_copy (and test)\n",
    "\n",
    "# train\n",
    "#os.makedirs(train_copy_dir)\n",
    "shutil.rmtree(train_copy_dir)\n",
    "os.makedirs(train_copy_dir)\n",
    "\n",
    "filenames = natsorted(os.listdir(image_dir))\n",
    "for filename in filenames:\n",
    "    if filename.endswith('.jpg'):  # 변경할 파일 확장자 지정\n",
    "\n",
    "        name = os.path.join(image_dir, filename)\n",
    "        shutil.copy(name, train_copy_dir)\n",
    "\n",
    "\n",
    "# test\n",
    "test_dir = './usg1_dataset/test_images/'\n",
    "split_test_dir = split_label_dir + 'test/'\n",
    "\n",
    "test_filenames = natsorted(os.listdir(test_dir))\n",
    "\n",
    "for filename in test_filenames:\n",
    "    if filename.endswith('.jpg'):  # 변경할 파일 확장자 지정\n",
    "\n",
    "        name = os.path.join(test_dir, filename)\n",
    "        shutil.copy(name, split_test_dir)"
   ]
  },
  {
   "cell_type": "code",
   "execution_count": 5,
   "metadata": {},
   "outputs": [],
   "source": [
    "filenames = natsorted(os.listdir(train_copy_dir))\n",
    "\n",
    "# 2) rename\n",
    "for idx, filename in enumerate(filenames):\n",
    "        label = labels_str[idx]\n",
    "\n",
    "        name = os.path.join(train_copy_dir, filename)\n",
    "        labeled_name = os.path.join(train_copy_dir, os.path.splitext(filename)[0]+ '_' +label+'.jpg')\n",
    "        os.rename(name, labeled_name)"
   ]
  },
  {
   "cell_type": "code",
   "execution_count": 6,
   "metadata": {},
   "outputs": [
    {
     "name": "stdout",
     "output_type": "stream",
     "text": [
      "train\n",
      " ['000000_1.jpg', '000001_8.jpg', '000002_0.jpg', '000003_1.jpg', '000004_8.jpg']\n",
      "valid\n",
      " ['000008_9.jpg', '000014_1.jpg', '000019_0.jpg', '000031_0.jpg', '000033_6.jpg']\n"
     ]
    }
   ],
   "source": [
    "# 2) split \n",
    "from sklearn.model_selection import train_test_split\n",
    "\n",
    "filenames = natsorted(os.listdir(train_copy_dir))\n",
    "\n",
    "train_filenames, valid_filenames = train_test_split(filenames, test_size=0.1, random_state=42)\n",
    "\n",
    "train_filenames = natsorted(train_filenames)\n",
    "valid_filenames = natsorted(valid_filenames)\n",
    "\n",
    "print('train\\n',train_filenames[:5])\n",
    "print('valid\\n',valid_filenames[:5])"
   ]
  },
  {
   "cell_type": "code",
   "execution_count": 7,
   "metadata": {},
   "outputs": [],
   "source": [
    "# 이미지 파일 이동하기\n",
    "\n",
    "# train\n",
    "for file in train_filenames:\n",
    "    if file.endswith('.jpg'):\n",
    "        filename = os.path.splitext(file)[0]\n",
    "        label = filename.split('_')[1]\n",
    "        shutil.copy(train_copy_dir+ '/' +file, train_dir + label + '/' + file)\n",
    "\n",
    "# valid\n",
    "for file in valid_filenames:\n",
    "    if file.endswith('.jpg'):\n",
    "        filename = os.path.splitext(file)[0]\n",
    "        label = filename.split('_')[1]\n",
    "        shutil.copy(train_copy_dir+ '/' +file, valid_dir + label + '/' + file)"
   ]
  },
  {
   "attachments": {},
   "cell_type": "markdown",
   "metadata": {},
   "source": [
    "# Model"
   ]
  },
  {
   "cell_type": "code",
   "execution_count": 8,
   "metadata": {},
   "outputs": [
    {
     "name": "stderr",
     "output_type": "stream",
     "text": [
      "/Users/jeong-geun-o/miniconda3/lib/python3.10/site-packages/torchvision/models/_utils.py:208: UserWarning: The parameter 'pretrained' is deprecated since 0.13 and may be removed in the future, please use 'weights' instead.\n",
      "  warnings.warn(\n",
      "/Users/jeong-geun-o/miniconda3/lib/python3.10/site-packages/torchvision/models/_utils.py:223: UserWarning: Arguments other than a weight enum or `None` for 'weights' are deprecated since 0.13 and may be removed in the future. The current behavior is equivalent to passing `weights=VGG16_Weights.IMAGENET1K_V1`. You can also use `weights=VGG16_Weights.DEFAULT` to get the most up-to-date weights.\n",
      "  warnings.warn(msg)\n"
     ]
    },
    {
     "data": {
      "text/plain": [
       "VGG(\n",
       "  (features): Sequential(\n",
       "    (0): Conv2d(3, 64, kernel_size=(3, 3), stride=(1, 1), padding=(1, 1))\n",
       "    (1): ReLU(inplace=True)\n",
       "    (2): Conv2d(64, 64, kernel_size=(3, 3), stride=(1, 1), padding=(1, 1))\n",
       "    (3): ReLU(inplace=True)\n",
       "    (4): MaxPool2d(kernel_size=2, stride=2, padding=0, dilation=1, ceil_mode=False)\n",
       "    (5): Conv2d(64, 128, kernel_size=(3, 3), stride=(1, 1), padding=(1, 1))\n",
       "    (6): ReLU(inplace=True)\n",
       "    (7): Conv2d(128, 128, kernel_size=(3, 3), stride=(1, 1), padding=(1, 1))\n",
       "    (8): ReLU(inplace=True)\n",
       "    (9): MaxPool2d(kernel_size=2, stride=2, padding=0, dilation=1, ceil_mode=False)\n",
       "    (10): Conv2d(128, 256, kernel_size=(3, 3), stride=(1, 1), padding=(1, 1))\n",
       "    (11): ReLU(inplace=True)\n",
       "    (12): Conv2d(256, 256, kernel_size=(3, 3), stride=(1, 1), padding=(1, 1))\n",
       "    (13): ReLU(inplace=True)\n",
       "    (14): Conv2d(256, 256, kernel_size=(3, 3), stride=(1, 1), padding=(1, 1))\n",
       "    (15): ReLU(inplace=True)\n",
       "    (16): MaxPool2d(kernel_size=2, stride=2, padding=0, dilation=1, ceil_mode=False)\n",
       "    (17): Conv2d(256, 512, kernel_size=(3, 3), stride=(1, 1), padding=(1, 1))\n",
       "    (18): ReLU(inplace=True)\n",
       "    (19): Conv2d(512, 512, kernel_size=(3, 3), stride=(1, 1), padding=(1, 1))\n",
       "    (20): ReLU(inplace=True)\n",
       "    (21): Conv2d(512, 512, kernel_size=(3, 3), stride=(1, 1), padding=(1, 1))\n",
       "    (22): ReLU(inplace=True)\n",
       "    (23): MaxPool2d(kernel_size=2, stride=2, padding=0, dilation=1, ceil_mode=False)\n",
       "    (24): Conv2d(512, 512, kernel_size=(3, 3), stride=(1, 1), padding=(1, 1))\n",
       "    (25): ReLU(inplace=True)\n",
       "    (26): Conv2d(512, 512, kernel_size=(3, 3), stride=(1, 1), padding=(1, 1))\n",
       "    (27): ReLU(inplace=True)\n",
       "    (28): Conv2d(512, 512, kernel_size=(3, 3), stride=(1, 1), padding=(1, 1))\n",
       "    (29): ReLU(inplace=True)\n",
       "    (30): MaxPool2d(kernel_size=2, stride=2, padding=0, dilation=1, ceil_mode=False)\n",
       "  )\n",
       "  (avgpool): AdaptiveAvgPool2d(output_size=(7, 7))\n",
       "  (classifier): Sequential(\n",
       "    (0): Linear(in_features=25088, out_features=4096, bias=True)\n",
       "    (1): ReLU()\n",
       "    (2): Dropout(p=0.5, inplace=False)\n",
       "    (3): Linear(in_features=4096, out_features=4096, bias=True)\n",
       "    (4): ReLU()\n",
       "    (5): Dropout(p=0.5, inplace=False)\n",
       "    (6): Linear(in_features=4096, out_features=10, bias=True)\n",
       "  )\n",
       ")"
      ]
     },
     "execution_count": 8,
     "metadata": {},
     "output_type": "execute_result"
    }
   ],
   "source": [
    "import torch\n",
    "import torch.nn as nn\n",
    "\n",
    "from torchvision.models.vgg import vgg16\n",
    "\n",
    "device = torch.device('mps')\n",
    "\n",
    "model = vgg16(pretrained=True) # ❶ vgg16 모델 객체 생성\n",
    "fc = nn.Sequential( # ❷ 분류층의 정의\n",
    "       nn.Linear(512 * 7 * 7, 4096),\n",
    "       nn.ReLU(),\n",
    "       nn.Dropout(), #❷ 드롭아웃층 정의\n",
    "       nn.Linear(4096, 4096),\n",
    "       nn.ReLU(),\n",
    "       nn.Dropout(),\n",
    "       nn.Linear(4096, 10),\n",
    "   )\n",
    "\n",
    "model.classifier = fc # ➍ VGG의 classifier를 덮어씀\n",
    "model.to(device)"
   ]
  },
  {
   "cell_type": "code",
   "execution_count": 9,
   "metadata": {},
   "outputs": [],
   "source": [
    "import tqdm\n",
    "\n",
    "from torchvision.transforms import Compose, ToTensor, Resize\n",
    "from torchvision.transforms import RandomHorizontalFlip, RandomCrop, Normalize\n",
    "from torch.optim.adam import Adam\n",
    "\n",
    "transforms = Compose([\n",
    "   Resize(224),\n",
    "   RandomCrop((224, 224), padding=4),\n",
    "   RandomHorizontalFlip(p=0.5),\n",
    "   ToTensor(),\n",
    "   Normalize(mean=(0.4914, 0.4822, 0.4465), std=(0.247, 0.243, 0.261))\n",
    "])"
   ]
  },
  {
   "attachments": {},
   "cell_type": "markdown",
   "metadata": {},
   "source": [
    "batch size = 16"
   ]
  },
  {
   "cell_type": "code",
   "execution_count": 10,
   "metadata": {},
   "outputs": [
    {
     "data": {
      "text/plain": [
       "'test_loader = torch.utils.data.DataLoader(dataset=test_dataset,\\n                                           batch_size=batch_size,\\n                                           shuffle=True)'"
      ]
     },
     "execution_count": 10,
     "metadata": {},
     "output_type": "execute_result"
    }
   ],
   "source": [
    "# 데이터셋 불러오기\n",
    "train_dataset = datasets.ImageFolder(root=train_dir,\n",
    "                                      transform=transforms)\n",
    "\n",
    "valid_dataset = datasets.ImageFolder(root=valid_dir,\n",
    "                                      transform=transforms)\n",
    "\n",
    "'''test_dataset = datasets.ImageFolder(root=split_test_dir,\n",
    "                                      transform=transforms)'''\n",
    "\n",
    "\n",
    "# 데이터로더 생성하기\n",
    "batch_size = 16\n",
    "train_loader = torch.utils.data.DataLoader(dataset=train_dataset,\n",
    "                                           batch_size=batch_size,\n",
    "                                           shuffle=True)\n",
    "\n",
    "valid_loader = torch.utils.data.DataLoader(dataset=valid_dataset,\n",
    "                                           batch_size=batch_size,\n",
    "                                           shuffle=True)\n",
    "\n",
    "'''test_loader = torch.utils.data.DataLoader(dataset=test_dataset,\n",
    "                                           batch_size=batch_size,\n",
    "                                           shuffle=True)'''"
   ]
  },
  {
   "cell_type": "code",
   "execution_count": 11,
   "metadata": {},
   "outputs": [
    {
     "name": "stderr",
     "output_type": "stream",
     "text": [
      "epoch:1 loss:0.005164100788533688: 100%|██████████| 716/716 [02:47<00:00,  4.26it/s]\n",
      "epoch:2 loss:0.48642998933792114: 100%|██████████| 716/716 [02:48<00:00,  4.26it/s]  \n",
      "epoch:3 loss:0.23544897139072418: 100%|██████████| 716/716 [02:47<00:00,  4.28it/s]  \n",
      "epoch:4 loss:0.048072073608636856: 100%|██████████| 716/716 [02:47<00:00,  4.28it/s] \n",
      "epoch:5 loss:0.2704761028289795: 100%|██████████| 716/716 [02:47<00:00,  4.27it/s]   \n",
      "epoch:6 loss:0.4290555417537689: 100%|██████████| 716/716 [02:47<00:00,  4.27it/s]   \n",
      "epoch:7 loss:0.8238698840141296: 100%|██████████| 716/716 [02:47<00:00,  4.27it/s]    \n",
      "epoch:8 loss:0.3437656760215759: 100%|██████████| 716/716 [02:47<00:00,  4.27it/s]    \n",
      "epoch:9 loss:0.10956905782222748: 100%|██████████| 716/716 [02:47<00:00,  4.27it/s]  \n",
      "epoch:10 loss:0.31659990549087524: 100%|██████████| 716/716 [02:48<00:00,  4.25it/s]   \n"
     ]
    }
   ],
   "source": [
    "lr = 1e-4\n",
    "optim = Adam(model.parameters(), lr=lr)\n",
    "\n",
    "for epoch in range(10):\n",
    "   iterator = tqdm.tqdm(train_loader) # ➊ 학습 로그 출력\n",
    "   for data, label in iterator:\n",
    "       optim.zero_grad()\n",
    "\n",
    "       preds = model(data.to(device)) # 모델의 예측값 출력\n",
    "\n",
    "       loss = nn.CrossEntropyLoss()(preds, label.to(device))\n",
    "       loss.backward()\n",
    "       optim.step()\n",
    "     \n",
    "       # ❷ tqdm이 출력할 문자열\n",
    "       iterator.set_description(f\"epoch:{epoch+1} loss:{loss.item()}\")\n",
    "\n",
    "torch.save(model.state_dict(), \"0309_model_VGG.pth\") # 모델 저장"
   ]
  },
  {
   "cell_type": "code",
   "execution_count": 12,
   "metadata": {},
   "outputs": [
    {
     "name": "stdout",
     "output_type": "stream",
     "text": [
      "Accuracy:0.9323899371069182\n"
     ]
    }
   ],
   "source": [
    "model.load_state_dict(torch.load(\"0309_model_VGG.pth\", map_location=device))\n",
    "\n",
    "num_corr = 0\n",
    "\n",
    "with torch.no_grad():\n",
    "   for data, label in valid_loader:\n",
    "\n",
    "       output = model(data.to(device))\n",
    "       preds = output.data.max(1)[1]\n",
    "       corr = preds.eq(label.to(device).data).sum().item()\n",
    "       num_corr += corr\n",
    "\n",
    "   print(f\"Accuracy:{num_corr/len(valid_dataset)}\")"
   ]
  }
 ],
 "metadata": {
  "kernelspec": {
   "display_name": "base",
   "language": "python",
   "name": "python3"
  },
  "language_info": {
   "codemirror_mode": {
    "name": "ipython",
    "version": 3
   },
   "file_extension": ".py",
   "mimetype": "text/x-python",
   "name": "python",
   "nbconvert_exporter": "python",
   "pygments_lexer": "ipython3",
   "version": "3.10.9"
  },
  "orig_nbformat": 4
 },
 "nbformat": 4,
 "nbformat_minor": 2
}
