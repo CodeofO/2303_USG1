{
 "cells": [
  {
   "attachments": {},
   "cell_type": "markdown",
   "metadata": {},
   "source": [
    "## import"
   ]
  },
  {
   "cell_type": "code",
   "execution_count": 1,
   "metadata": {},
   "outputs": [
    {
     "name": "stderr",
     "output_type": "stream",
     "text": [
      "/Users/jeong-geun-o/miniconda3/lib/python3.10/site-packages/torchvision/io/image.py:13: UserWarning: Failed to load image Python extension: dlopen(/Users/jeong-geun-o/miniconda3/lib/python3.10/site-packages/torchvision/image.so, 0x0006): Library not loaded: @rpath/libjpeg.8.dylib\n",
      "  Referenced from: <BE0CCD9A-269A-30E2-A23C-DA45E89EBB1F> /Users/jeong-geun-o/miniconda3/lib/python3.10/site-packages/torchvision/image.so\n",
      "  Reason: tried: '/Users/jeong-geun-o/miniconda3/lib/python3.10/site-packages/torchvision/../../../libjpeg.8.dylib' (no such file), '/Users/jeong-geun-o/miniconda3/lib/python3.10/site-packages/torchvision/../../../libjpeg.8.dylib' (no such file), '/Users/jeong-geun-o/miniconda3/lib/python3.10/lib-dynload/../../libjpeg.8.dylib' (no such file), '/Users/jeong-geun-o/miniconda3/bin/../lib/libjpeg.8.dylib' (no such file), '/System/Volumes/Preboot/Cryptexes/OS@rpath/libjpeg.8.dylib' (no such file), '/Users/jeong-geun-o/miniconda3/lib/python3.10/site-packages/torchvision/../../../libjpeg.8.dylib' (no such file), '/Users/jeong-geun-o/miniconda3/lib/python3.10/site-packages/torchvision/../../../libjpeg.8.dylib' (no such file), '/Users/jeong-geun-o/miniconda3/lib/python3.10/lib-dynload/../../libjpeg.8.dylib' (no such file), '/Users/jeong-geun-o/miniconda3/bin/../lib/libjpeg.8.dylib' (no such file), '/usr/local/lib/libjpeg.8.dylib' (no such file), '/usr/lib/libjpeg.8.dylib' (no such file, not in dyld cache)\n",
      "  warn(f\"Failed to load image Python extension: {e}\")\n"
     ]
    }
   ],
   "source": [
    "import torch\n",
    "import torch.nn as nn\n",
    "import torchvision.transforms as transforms\n",
    "import torchvision.datasets as datasets\n",
    "import torchvision.models as models\n",
    "import pandas as pd"
   ]
  },
  {
   "attachments": {},
   "cell_type": "markdown",
   "metadata": {},
   "source": [
    "# load data"
   ]
  },
  {
   "attachments": {},
   "cell_type": "markdown",
   "metadata": {},
   "source": [
    "### define directory path"
   ]
  },
  {
   "cell_type": "code",
   "execution_count": 2,
   "metadata": {},
   "outputs": [],
   "source": [
    "import os\n",
    "import shutil\n",
    "\n",
    "# 데이터셋 경로 설정하기\n",
    "dataset_path = './usg1_dataset/train_images/'\n",
    "dir = \"./usg1_dataset/\"\n",
    "image_dir = dir+'train_images/'\n",
    "train_csv_dir = dir+'train.csv'\n",
    "train_copy_dir = './usg1_dataset/train_copy/'\n",
    "test_dir = './usg1_dataset/test_images/'\n",
    "split_label_dir = dir + 'train_split_label/'"
   ]
  },
  {
   "attachments": {},
   "cell_type": "markdown",
   "metadata": {},
   "source": [
    "### split train/valid/test"
   ]
  },
  {
   "cell_type": "code",
   "execution_count": 3,
   "metadata": {},
   "outputs": [],
   "source": [
    "os.makedirs(split_label_dir, exist_ok=True)\n",
    "\n",
    "train_dir = split_label_dir + 'train/'\n",
    "valid_dir = split_label_dir + 'valid/'\n",
    "test_dir = split_label_dir + 'test/'\n",
    "\n",
    "os.makedirs(split_label_dir + '/train', exist_ok=True)\n",
    "os.makedirs(split_label_dir + '/valid', exist_ok=True)\n",
    "os.makedirs(split_label_dir + '/test', exist_ok=True)\n",
    "\n",
    "\n",
    "shutil.rmtree(train_dir)\n",
    "shutil.rmtree(valid_dir)\n",
    "shutil.rmtree(test_dir)\n",
    "\n",
    "os.makedirs(split_label_dir + '/train', exist_ok=True)\n",
    "os.makedirs(split_label_dir + '/valid', exist_ok=True)\n",
    "os.makedirs(split_label_dir + '/test', exist_ok=True)\n",
    "\n",
    "\n",
    "# 레이블 이름 설정하기\n",
    "train_labels = pd.read_csv(train_csv_dir)\n",
    "labels = train_labels['label'].to_list() # 레이블 리스트\n",
    "labels_str = []\n",
    "for label in labels:\n",
    "    labels_str.append(str(label))\n",
    "\n",
    "# 하위 폴더 생성하기\n",
    "for label in labels_str:\n",
    "    os.makedirs(train_dir + label, exist_ok=True)\n",
    "    os.makedirs(valid_dir + label, exist_ok=True)"
   ]
  },
  {
   "attachments": {},
   "cell_type": "markdown",
   "metadata": {},
   "source": [
    "### copy : train, test"
   ]
  },
  {
   "cell_type": "code",
   "execution_count": 4,
   "metadata": {},
   "outputs": [],
   "source": [
    "import os\n",
    "from natsort import natsorted\n",
    "\n",
    "# 파일 이름 변경하기 \"\"\n",
    "\n",
    "# 1) copy : train_images => train_copy (and test)\n",
    "\n",
    "# train\n",
    "#os.makedirs(train_copy_dir)\n",
    "shutil.rmtree(train_copy_dir)\n",
    "os.makedirs(train_copy_dir)\n",
    "\n",
    "filenames = natsorted(os.listdir(image_dir))\n",
    "for filename in filenames:\n",
    "    if filename.endswith('.jpg'):  # 변경할 파일 확장자 지정\n",
    "\n",
    "        name = os.path.join(image_dir, filename)\n",
    "        shutil.copy(name, train_copy_dir)\n",
    "\n",
    "\n",
    "# test\n",
    "test_dir = './usg1_dataset/test_images/'\n",
    "split_test_dir = split_label_dir + 'test/'\n",
    "\n",
    "test_filenames = natsorted(os.listdir(test_dir))\n",
    "\n",
    "for filename in test_filenames:\n",
    "    if filename.endswith('.jpg'):  # 변경할 파일 확장자 지정\n",
    "\n",
    "        name = os.path.join(test_dir, filename)\n",
    "        shutil.copy(name, split_test_dir)"
   ]
  },
  {
   "attachments": {},
   "cell_type": "markdown",
   "metadata": {},
   "source": [
    "### rename : train"
   ]
  },
  {
   "cell_type": "code",
   "execution_count": 5,
   "metadata": {},
   "outputs": [],
   "source": [
    "filenames = natsorted(os.listdir(train_copy_dir))\n",
    "\n",
    "# 2) rename\n",
    "for idx, filename in enumerate(filenames):\n",
    "        label = labels_str[idx]\n",
    "\n",
    "        name = os.path.join(train_copy_dir, filename)\n",
    "        labeled_name = os.path.join(train_copy_dir, os.path.splitext(filename)[0]+ '_' +label+'.jpg')\n",
    "        os.rename(name, labeled_name)"
   ]
  },
  {
   "attachments": {},
   "cell_type": "markdown",
   "metadata": {},
   "source": [
    "### split : train, valid"
   ]
  },
  {
   "cell_type": "code",
   "execution_count": 6,
   "metadata": {},
   "outputs": [
    {
     "name": "stdout",
     "output_type": "stream",
     "text": [
      "train\n",
      " ['000000_1.jpg', '000001_8.jpg', '000002_0.jpg', '000003_1.jpg', '000004_8.jpg']\n",
      "valid\n",
      " ['000008_9.jpg', '000014_1.jpg', '000019_0.jpg', '000031_0.jpg', '000033_6.jpg']\n"
     ]
    }
   ],
   "source": [
    "# 2) split \n",
    "from sklearn.model_selection import train_test_split\n",
    "\n",
    "filenames = natsorted(os.listdir(train_copy_dir))\n",
    "\n",
    "train_filenames, valid_filenames = train_test_split(filenames, test_size=0.1, random_state=42)\n",
    "\n",
    "train_filenames = natsorted(train_filenames)\n",
    "valid_filenames = natsorted(valid_filenames)\n",
    "\n",
    "print('train\\n',train_filenames[:5])\n",
    "print('valid\\n',valid_filenames[:5])"
   ]
  },
  {
   "cell_type": "code",
   "execution_count": 7,
   "metadata": {},
   "outputs": [],
   "source": [
    "# 이미지 파일 이동하기\n",
    "\n",
    "# train\n",
    "for file in train_filenames:\n",
    "    if file.endswith('.jpg'):\n",
    "        filename = os.path.splitext(file)[0]\n",
    "        label = filename.split('_')[1]\n",
    "        shutil.copy(train_copy_dir+ '/' +file, train_dir + label + '/' + file)\n",
    "\n",
    "# valid\n",
    "for file in valid_filenames:\n",
    "    if file.endswith('.jpg'):\n",
    "        filename = os.path.splitext(file)[0]\n",
    "        label = filename.split('_')[1]\n",
    "        shutil.copy(train_copy_dir+ '/' +file, valid_dir + label + '/' + file)"
   ]
  },
  {
   "attachments": {},
   "cell_type": "markdown",
   "metadata": {},
   "source": [
    "# Model"
   ]
  },
  {
   "attachments": {},
   "cell_type": "markdown",
   "metadata": {},
   "source": [
    "### transforms"
   ]
  },
  {
   "cell_type": "code",
   "execution_count": 8,
   "metadata": {},
   "outputs": [],
   "source": [
    "import tqdm\n",
    "\n",
    "import tqdm\n",
    "\n",
    "from torchvision.transforms import Compose, ToTensor, Resize\n",
    "from torchvision.transforms import RandomHorizontalFlip, RandomCrop, Normalize, RandomVerticalFlip, RandomRotation, RandomResizedCrop, RandomGrayscale, RandomSolarize\n",
    "from torch.optim.adam import Adam\n",
    "\n",
    "transforms = Compose([\n",
    "   Resize(224),\n",
    "   RandomCrop((224, 224), padding=4),\n",
    "   #RandomGrayscale(p=0.75),\n",
    "   #RandomSolarize,\n",
    "   #RandomVerticalFlip(), # 상하반전\n",
    "   # RandomRotation(180), # 회전\n",
    "   RandomHorizontalFlip(p=0.5), # 좌우반전\n",
    "   ToTensor(),\n",
    "   Normalize(mean=(0.4914, 0.4822, 0.4465), std=(0.247, 0.243, 0.261))\n",
    "])"
   ]
  },
  {
   "attachments": {},
   "cell_type": "markdown",
   "metadata": {},
   "source": [
    "### load DataLoader"
   ]
  },
  {
   "cell_type": "code",
   "execution_count": 9,
   "metadata": {},
   "outputs": [],
   "source": [
    "# 데이터셋 불러오기\n",
    "train_dataset = datasets.ImageFolder(root=train_dir,\n",
    "                                      transform=transforms)\n",
    "\n",
    "valid_dataset = datasets.ImageFolder(root=valid_dir,\n",
    "                                      transform=transforms)\n"
   ]
  },
  {
   "attachments": {},
   "cell_type": "markdown",
   "metadata": {},
   "source": [
    "### Define model"
   ]
  },
  {
   "cell_type": "code",
   "execution_count": 10,
   "metadata": {},
   "outputs": [
    {
     "name": "stderr",
     "output_type": "stream",
     "text": [
      "/Users/jeong-geun-o/miniconda3/lib/python3.10/site-packages/torchvision/models/_utils.py:208: UserWarning: The parameter 'pretrained' is deprecated since 0.13 and may be removed in the future, please use 'weights' instead.\n",
      "  warnings.warn(\n",
      "/Users/jeong-geun-o/miniconda3/lib/python3.10/site-packages/torchvision/models/_utils.py:223: UserWarning: Arguments other than a weight enum or `None` for 'weights' are deprecated since 0.13 and may be removed in the future. The current behavior is equivalent to passing `weights=ResNet18_Weights.IMAGENET1K_V1`. You can also use `weights=ResNet18_Weights.DEFAULT` to get the most up-to-date weights.\n",
      "  warnings.warn(msg)\n"
     ]
    },
    {
     "data": {
      "text/plain": [
       "ResNet(\n",
       "  (conv1): Conv2d(3, 64, kernel_size=(7, 7), stride=(2, 2), padding=(3, 3), bias=False)\n",
       "  (bn1): BatchNorm2d(64, eps=1e-05, momentum=0.1, affine=True, track_running_stats=True)\n",
       "  (relu): ReLU(inplace=True)\n",
       "  (maxpool): MaxPool2d(kernel_size=3, stride=2, padding=1, dilation=1, ceil_mode=False)\n",
       "  (layer1): Sequential(\n",
       "    (0): BasicBlock(\n",
       "      (conv1): Conv2d(64, 64, kernel_size=(3, 3), stride=(1, 1), padding=(1, 1), bias=False)\n",
       "      (bn1): BatchNorm2d(64, eps=1e-05, momentum=0.1, affine=True, track_running_stats=True)\n",
       "      (relu): ReLU(inplace=True)\n",
       "      (conv2): Conv2d(64, 64, kernel_size=(3, 3), stride=(1, 1), padding=(1, 1), bias=False)\n",
       "      (bn2): BatchNorm2d(64, eps=1e-05, momentum=0.1, affine=True, track_running_stats=True)\n",
       "    )\n",
       "    (1): BasicBlock(\n",
       "      (conv1): Conv2d(64, 64, kernel_size=(3, 3), stride=(1, 1), padding=(1, 1), bias=False)\n",
       "      (bn1): BatchNorm2d(64, eps=1e-05, momentum=0.1, affine=True, track_running_stats=True)\n",
       "      (relu): ReLU(inplace=True)\n",
       "      (conv2): Conv2d(64, 64, kernel_size=(3, 3), stride=(1, 1), padding=(1, 1), bias=False)\n",
       "      (bn2): BatchNorm2d(64, eps=1e-05, momentum=0.1, affine=True, track_running_stats=True)\n",
       "    )\n",
       "  )\n",
       "  (layer2): Sequential(\n",
       "    (0): BasicBlock(\n",
       "      (conv1): Conv2d(64, 128, kernel_size=(3, 3), stride=(2, 2), padding=(1, 1), bias=False)\n",
       "      (bn1): BatchNorm2d(128, eps=1e-05, momentum=0.1, affine=True, track_running_stats=True)\n",
       "      (relu): ReLU(inplace=True)\n",
       "      (conv2): Conv2d(128, 128, kernel_size=(3, 3), stride=(1, 1), padding=(1, 1), bias=False)\n",
       "      (bn2): BatchNorm2d(128, eps=1e-05, momentum=0.1, affine=True, track_running_stats=True)\n",
       "      (downsample): Sequential(\n",
       "        (0): Conv2d(64, 128, kernel_size=(1, 1), stride=(2, 2), bias=False)\n",
       "        (1): BatchNorm2d(128, eps=1e-05, momentum=0.1, affine=True, track_running_stats=True)\n",
       "      )\n",
       "    )\n",
       "    (1): BasicBlock(\n",
       "      (conv1): Conv2d(128, 128, kernel_size=(3, 3), stride=(1, 1), padding=(1, 1), bias=False)\n",
       "      (bn1): BatchNorm2d(128, eps=1e-05, momentum=0.1, affine=True, track_running_stats=True)\n",
       "      (relu): ReLU(inplace=True)\n",
       "      (conv2): Conv2d(128, 128, kernel_size=(3, 3), stride=(1, 1), padding=(1, 1), bias=False)\n",
       "      (bn2): BatchNorm2d(128, eps=1e-05, momentum=0.1, affine=True, track_running_stats=True)\n",
       "    )\n",
       "  )\n",
       "  (layer3): Sequential(\n",
       "    (0): BasicBlock(\n",
       "      (conv1): Conv2d(128, 256, kernel_size=(3, 3), stride=(2, 2), padding=(1, 1), bias=False)\n",
       "      (bn1): BatchNorm2d(256, eps=1e-05, momentum=0.1, affine=True, track_running_stats=True)\n",
       "      (relu): ReLU(inplace=True)\n",
       "      (conv2): Conv2d(256, 256, kernel_size=(3, 3), stride=(1, 1), padding=(1, 1), bias=False)\n",
       "      (bn2): BatchNorm2d(256, eps=1e-05, momentum=0.1, affine=True, track_running_stats=True)\n",
       "      (downsample): Sequential(\n",
       "        (0): Conv2d(128, 256, kernel_size=(1, 1), stride=(2, 2), bias=False)\n",
       "        (1): BatchNorm2d(256, eps=1e-05, momentum=0.1, affine=True, track_running_stats=True)\n",
       "      )\n",
       "    )\n",
       "    (1): BasicBlock(\n",
       "      (conv1): Conv2d(256, 256, kernel_size=(3, 3), stride=(1, 1), padding=(1, 1), bias=False)\n",
       "      (bn1): BatchNorm2d(256, eps=1e-05, momentum=0.1, affine=True, track_running_stats=True)\n",
       "      (relu): ReLU(inplace=True)\n",
       "      (conv2): Conv2d(256, 256, kernel_size=(3, 3), stride=(1, 1), padding=(1, 1), bias=False)\n",
       "      (bn2): BatchNorm2d(256, eps=1e-05, momentum=0.1, affine=True, track_running_stats=True)\n",
       "    )\n",
       "  )\n",
       "  (layer4): Sequential(\n",
       "    (0): BasicBlock(\n",
       "      (conv1): Conv2d(256, 512, kernel_size=(3, 3), stride=(2, 2), padding=(1, 1), bias=False)\n",
       "      (bn1): BatchNorm2d(512, eps=1e-05, momentum=0.1, affine=True, track_running_stats=True)\n",
       "      (relu): ReLU(inplace=True)\n",
       "      (conv2): Conv2d(512, 512, kernel_size=(3, 3), stride=(1, 1), padding=(1, 1), bias=False)\n",
       "      (bn2): BatchNorm2d(512, eps=1e-05, momentum=0.1, affine=True, track_running_stats=True)\n",
       "      (downsample): Sequential(\n",
       "        (0): Conv2d(256, 512, kernel_size=(1, 1), stride=(2, 2), bias=False)\n",
       "        (1): BatchNorm2d(512, eps=1e-05, momentum=0.1, affine=True, track_running_stats=True)\n",
       "      )\n",
       "    )\n",
       "    (1): BasicBlock(\n",
       "      (conv1): Conv2d(512, 512, kernel_size=(3, 3), stride=(1, 1), padding=(1, 1), bias=False)\n",
       "      (bn1): BatchNorm2d(512, eps=1e-05, momentum=0.1, affine=True, track_running_stats=True)\n",
       "      (relu): ReLU(inplace=True)\n",
       "      (conv2): Conv2d(512, 512, kernel_size=(3, 3), stride=(1, 1), padding=(1, 1), bias=False)\n",
       "      (bn2): BatchNorm2d(512, eps=1e-05, momentum=0.1, affine=True, track_running_stats=True)\n",
       "    )\n",
       "  )\n",
       "  (avgpool): AdaptiveAvgPool2d(output_size=(1, 1))\n",
       "  (fc): Linear(in_features=512, out_features=1000, bias=True)\n",
       ")"
      ]
     },
     "execution_count": 10,
     "metadata": {},
     "output_type": "execute_result"
    }
   ],
   "source": [
    "import torch\n",
    "import torch.nn as nn\n",
    "\n",
    "from torchvision.models.resnet import resnet18, resnet34, resnet50, resnet152\n",
    "\n",
    "\n",
    "\n",
    "device = torch.device('mps')\n",
    "\n",
    "resnet = resnet18\n",
    "model = resnet(pretrained=True) # ❶ resnet18 모델 객체 생성\n",
    "\n",
    "model.to(device)"
   ]
  },
  {
   "cell_type": "code",
   "execution_count": 11,
   "metadata": {},
   "outputs": [
    {
     "name": "stdout",
     "output_type": "stream",
     "text": [
      "resnet18\n",
      "0310_model_resnet18_(lr=0.0001_epochs=50_batch_size=16)\n"
     ]
    }
   ],
   "source": [
    "# parameter\n",
    "lr = 1e-4\n",
    "epochs = 50\n",
    "batch_size = 16\n",
    "\n",
    "# model describe\n",
    "model_name = f\"0310_model_{str(resnet)[10:18]}_(lr={lr}_epochs={epochs}_batch_size={batch_size})\"\n",
    "print(str(resnet)[10:18])\n",
    "print(model_name)"
   ]
  },
  {
   "attachments": {},
   "cell_type": "markdown",
   "metadata": {},
   "source": [
    "### fit"
   ]
  },
  {
   "cell_type": "code",
   "execution_count": 12,
   "metadata": {},
   "outputs": [
    {
     "name": "stderr",
     "output_type": "stream",
     "text": [
      "epoch:1 loss:1.3589544296264648: 100%|██████████| 716/716 [00:47<00:00, 15.20it/s]  \n",
      "epoch:2 loss:1.2094086408615112: 100%|██████████| 716/716 [00:46<00:00, 15.27it/s]  \n",
      "epoch:3 loss:0.3797508180141449: 100%|██████████| 716/716 [00:46<00:00, 15.25it/s]   \n",
      "epoch:4 loss:0.2483006864786148: 100%|██████████| 716/716 [00:46<00:00, 15.27it/s]  \n",
      "epoch:5 loss:0.8429421186447144: 100%|██████████| 716/716 [00:46<00:00, 15.25it/s]   \n",
      "epoch:6 loss:0.21647167205810547: 100%|██████████| 716/716 [00:46<00:00, 15.25it/s]  \n",
      "epoch:7 loss:0.13690102100372314: 100%|██████████| 716/716 [00:46<00:00, 15.28it/s]  \n",
      "epoch:8 loss:0.5747107863426208: 100%|██████████| 716/716 [00:47<00:00, 15.19it/s]   \n",
      "epoch:9 loss:0.08066421747207642: 100%|██████████| 716/716 [00:47<00:00, 15.14it/s]  \n",
      "epoch:10 loss:0.0860321894288063: 100%|██████████| 716/716 [00:47<00:00, 15.13it/s]   \n",
      "epoch:11 loss:1.4782816171646118: 100%|██████████| 716/716 [00:47<00:00, 15.14it/s]   \n",
      "epoch:12 loss:0.0019994087051600218: 100%|██████████| 716/716 [00:47<00:00, 15.13it/s]\n",
      "epoch:13 loss:0.26084762811660767: 100%|██████████| 716/716 [00:47<00:00, 15.12it/s]  \n",
      "epoch:14 loss:0.42032647132873535: 100%|██████████| 716/716 [00:47<00:00, 15.14it/s]  \n",
      "epoch:15 loss:0.010497510433197021: 100%|██████████| 716/716 [00:47<00:00, 15.14it/s] \n",
      "epoch:16 loss:0.014721265062689781: 100%|██████████| 716/716 [00:47<00:00, 15.14it/s] \n",
      "epoch:17 loss:0.046921227127313614: 100%|██████████| 716/716 [00:47<00:00, 15.15it/s] \n",
      "epoch:18 loss:0.0553414523601532: 100%|██████████| 716/716 [00:47<00:00, 15.12it/s]   \n",
      "epoch:19 loss:0.01975850947201252: 100%|██████████| 716/716 [00:47<00:00, 15.12it/s]  \n",
      "epoch:20 loss:0.050260622054338455: 100%|██████████| 716/716 [00:47<00:00, 15.13it/s]  \n",
      "epoch:21 loss:0.3562018573284149: 100%|██████████| 716/716 [00:47<00:00, 15.14it/s]    \n",
      "epoch:22 loss:0.3763868510723114: 100%|██████████| 716/716 [00:47<00:00, 15.13it/s]   \n",
      "epoch:23 loss:0.021838193759322166: 100%|██████████| 716/716 [00:47<00:00, 15.12it/s]  \n",
      "epoch:24 loss:0.0005305851809680462: 100%|██████████| 716/716 [00:47<00:00, 15.12it/s] \n",
      "epoch:25 loss:0.006639865692704916: 100%|██████████| 716/716 [00:47<00:00, 15.11it/s]  \n",
      "epoch:26 loss:0.15577386319637299: 100%|██████████| 716/716 [00:47<00:00, 15.10it/s]  \n",
      "epoch:27 loss:0.7452145218849182: 100%|██████████| 716/716 [00:47<00:00, 15.11it/s]    \n",
      "epoch:28 loss:0.0007407536031678319: 100%|██████████| 716/716 [00:47<00:00, 15.11it/s] \n",
      "epoch:29 loss:0.020935237407684326: 100%|██████████| 716/716 [00:47<00:00, 15.10it/s]  \n",
      "epoch:30 loss:0.02806955948472023: 100%|██████████| 716/716 [00:47<00:00, 15.11it/s]   \n",
      "epoch:31 loss:0.001123824273236096: 100%|██████████| 716/716 [00:47<00:00, 15.09it/s]  \n",
      "epoch:32 loss:0.0002635677228681743: 100%|██████████| 716/716 [00:47<00:00, 15.11it/s] \n",
      "epoch:33 loss:0.006479956209659576: 100%|██████████| 716/716 [00:47<00:00, 15.16it/s]  \n",
      "epoch:34 loss:0.0010534859029576182: 100%|██████████| 716/716 [00:47<00:00, 15.16it/s] \n",
      "epoch:35 loss:0.0009403452859260142: 100%|██████████| 716/716 [00:47<00:00, 15.16it/s] \n",
      "epoch:36 loss:0.06804006546735764: 100%|██████████| 716/716 [00:47<00:00, 15.16it/s]   \n",
      "epoch:37 loss:0.004848435055464506: 100%|██████████| 716/716 [00:47<00:00, 15.15it/s]  \n",
      "epoch:38 loss:0.002767017111182213: 100%|██████████| 716/716 [00:47<00:00, 15.17it/s]  \n",
      "epoch:39 loss:0.0004950957954861224: 100%|██████████| 716/716 [00:47<00:00, 15.15it/s] \n",
      "epoch:40 loss:0.027851251885294914: 100%|██████████| 716/716 [00:47<00:00, 15.16it/s]  \n",
      "epoch:41 loss:0.06528470665216446: 100%|██████████| 716/716 [00:47<00:00, 15.10it/s]   \n",
      "epoch:42 loss:2.9521405696868896: 100%|██████████| 716/716 [00:47<00:00, 15.05it/s]    \n",
      "epoch:43 loss:0.0014457905199378729: 100%|██████████| 716/716 [00:47<00:00, 15.06it/s] \n",
      "epoch:44 loss:0.0049904342740774155: 100%|██████████| 716/716 [00:47<00:00, 15.07it/s] \n",
      "epoch:45 loss:0.039791885763406754: 100%|██████████| 716/716 [00:47<00:00, 15.04it/s]  \n",
      "epoch:46 loss:0.0011349791893735528: 100%|██████████| 716/716 [00:47<00:00, 15.07it/s] \n",
      "epoch:47 loss:0.31732577085494995: 100%|██████████| 716/716 [00:47<00:00, 15.08it/s]   \n",
      "epoch:48 loss:0.022317776456475258: 100%|██████████| 716/716 [00:47<00:00, 15.09it/s]  \n",
      "epoch:49 loss:0.00048356899060308933: 100%|██████████| 716/716 [00:47<00:00, 15.09it/s]\n",
      "epoch:50 loss:0.0003830294299405068: 100%|██████████| 716/716 [00:47<00:00, 15.08it/s] \n"
     ]
    }
   ],
   "source": [
    "from torch.optim.adam import Adam\n",
    "\n",
    "optim = Adam(model.parameters(), lr=lr)\n",
    "\n",
    "\n",
    "# 데이터로더 생성하기\n",
    "train_loader = torch.utils.data.DataLoader(dataset=train_dataset,\n",
    "                                           batch_size=batch_size,\n",
    "                                           shuffle=True)\n",
    "valid_loader = torch.utils.data.DataLoader(dataset=valid_dataset,\n",
    "                                           batch_size=batch_size,\n",
    "                                           shuffle=True)\n",
    "\n",
    "\n",
    "for epoch in range(epochs):\n",
    "   iterator = tqdm.tqdm(train_loader)\n",
    "   for data, label in iterator:\n",
    "       # 최적화를 위해 기울기를 초기화\n",
    "       optim.zero_grad()\n",
    "\n",
    "       # 모델의 예측값\n",
    "       preds = model(data.to(device))\n",
    "\n",
    "       # 손실 계산 및 역전파\n",
    "       loss = nn.CrossEntropyLoss()(preds, label.to(device))\n",
    "       loss.backward()\n",
    "       optim.step()\n",
    "\n",
    "       iterator.set_description(f\"epoch:{epoch+1} loss:{loss.item()}\")\n",
    "\n",
    "\n",
    "# save model\n",
    "torch.save(model.state_dict(), model_name+\".pth\")"
   ]
  },
  {
   "attachments": {},
   "cell_type": "markdown",
   "metadata": {},
   "source": [
    "### Accuracy"
   ]
  },
  {
   "cell_type": "code",
   "execution_count": 14,
   "metadata": {},
   "outputs": [
    {
     "name": "stdout",
     "output_type": "stream",
     "text": [
      "0310_model_resnet18_(lr=0.0001_epochs=50_batch_size=16)\n",
      "Accuracy:0.9457547169811321\n"
     ]
    }
   ],
   "source": [
    "print(model_name)\n",
    "model.load_state_dict(torch.load(model_name+\".pth\", map_location=device))\n",
    "\n",
    "num_corr = 0\n",
    "\n",
    "with torch.no_grad():\n",
    "   for data, label in valid_loader:\n",
    "\n",
    "       output = model(data.to(device))\n",
    "       preds = output.data.max(1)[1]\n",
    "       corr = preds.eq(label.to(device).data).sum().item()\n",
    "       num_corr += corr\n",
    "\n",
    "   print(f\"Accuracy:{num_corr/len(valid_dataset)}\")"
   ]
  },
  {
   "attachments": {},
   "cell_type": "markdown",
   "metadata": {},
   "source": [
    "resnet18  \n",
    "- (batch=16/epochs=10) Accuracy:0.9363207547169812  \n",
    "- (batch=16/epochs=30)  \n",
    "\n",
    "resnet34\n",
    "- (batch=16/epochs=10) Accuracy:0.9504716981132075  \n",
    "- (batch=16/epochs=30) Accuracy:0.9559748427672956 👍\n",
    "\n",
    "\n",
    "resnet50  \n",
    "- (batch=16/epochs=10) Accuracy:0.9323899371069182\n",
    "- (epochs=30_batch_size=32) Accuracy:0.9520440251572327\n",
    "\n",
    " \n",
    "resnet152   \n",
    "- "
   ]
  },
  {
   "attachments": {},
   "cell_type": "markdown",
   "metadata": {},
   "source": [
    "### Submit"
   ]
  },
  {
   "cell_type": "code",
   "execution_count": 15,
   "metadata": {},
   "outputs": [],
   "source": [
    "from torch.utils.data import Dataset\n",
    "from PIL import Image\n",
    "\n",
    "class UnlabeledDataset(Dataset):\n",
    "    def __init__(self, data_path, transform=None):\n",
    "        self.data_path = data_path\n",
    "        self.transform = transform\n",
    "\n",
    "        self.filelist = natsorted(os.listdir(data_path))\n",
    "\n",
    "    def __len__(self):\n",
    "        return len(self.filelist)\n",
    "\n",
    "    def __getitem__(self, idx):\n",
    "        img_path = os.path.join(self.data_path, self.filelist[idx])\n",
    "        image = Image.open(img_path).convert('RGB')\n",
    "\n",
    "        if self.transform:\n",
    "            image = self.transform(image)\n",
    "\n",
    "        return image"
   ]
  },
  {
   "cell_type": "code",
   "execution_count": 17,
   "metadata": {},
   "outputs": [],
   "source": [
    "test_dataset = UnlabeledDataset(data_path=split_test_dir, transform=transforms)\n",
    "\n",
    "batch_size = 32\n",
    "\n",
    "test_loader = torch.utils.data.DataLoader(dataset=test_dataset,\n",
    "                                           batch_size=batch_size,\n",
    "                                           shuffle=False)\n",
    "\n",
    "\n",
    "\n",
    "# predict\n",
    "model.load_state_dict(torch.load(model_name+\".pth\", map_location=device))\n",
    "\n",
    "sub = []\n",
    "\n",
    "with torch.no_grad():\n",
    "   for data in test_loader:\n",
    "\n",
    "       output = model(data.to(device))\n",
    "       preds = output.data.max(1)[1]\n",
    "\n",
    "       preds = preds.cpu()\n",
    "       preds = preds.numpy()\n",
    "\n",
    "       for i in range(len(preds)):\n",
    "        sub.append(preds[i])\n",
    "\n",
    "submit_df = pd.DataFrame(data=natsorted(os.listdir(split_test_dir)), columns=['image_name'])\n",
    "submit_df['label'] = sub"
   ]
  },
  {
   "cell_type": "code",
   "execution_count": 18,
   "metadata": {},
   "outputs": [],
   "source": [
    "submit_df.to_csv(f'{model_name}.csv')"
   ]
  },
  {
   "cell_type": "code",
   "execution_count": 19,
   "metadata": {},
   "outputs": [
    {
     "data": {
      "text/plain": [
       "'0310_model_resnet18_(lr=0.0001_epochs=50_batch_size=16)'"
      ]
     },
     "execution_count": 19,
     "metadata": {},
     "output_type": "execute_result"
    }
   ],
   "source": [
    "model_name"
   ]
  }
 ],
 "metadata": {
  "kernelspec": {
   "display_name": "base",
   "language": "python",
   "name": "python3"
  },
  "language_info": {
   "codemirror_mode": {
    "name": "ipython",
    "version": 3
   },
   "file_extension": ".py",
   "mimetype": "text/x-python",
   "name": "python",
   "nbconvert_exporter": "python",
   "pygments_lexer": "ipython3",
   "version": "3.10.9"
  },
  "orig_nbformat": 4
 },
 "nbformat": 4,
 "nbformat_minor": 2
}
