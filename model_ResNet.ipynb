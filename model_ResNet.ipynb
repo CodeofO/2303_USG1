{
 "cells": [
  {
   "attachments": {},
   "cell_type": "markdown",
   "metadata": {},
   "source": [
    "## import"
   ]
  },
  {
   "cell_type": "code",
   "execution_count": 1,
   "metadata": {},
   "outputs": [
    {
     "name": "stderr",
     "output_type": "stream",
     "text": [
      "/Users/jeong-geun-o/miniconda3/lib/python3.10/site-packages/torchvision/io/image.py:13: UserWarning: Failed to load image Python extension: dlopen(/Users/jeong-geun-o/miniconda3/lib/python3.10/site-packages/torchvision/image.so, 0x0006): Library not loaded: @rpath/libjpeg.8.dylib\n",
      "  Referenced from: <BE0CCD9A-269A-30E2-A23C-DA45E89EBB1F> /Users/jeong-geun-o/miniconda3/lib/python3.10/site-packages/torchvision/image.so\n",
      "  Reason: tried: '/Users/jeong-geun-o/miniconda3/lib/python3.10/site-packages/torchvision/../../../libjpeg.8.dylib' (no such file), '/Users/jeong-geun-o/miniconda3/lib/python3.10/site-packages/torchvision/../../../libjpeg.8.dylib' (no such file), '/Users/jeong-geun-o/miniconda3/lib/python3.10/lib-dynload/../../libjpeg.8.dylib' (no such file), '/Users/jeong-geun-o/miniconda3/bin/../lib/libjpeg.8.dylib' (no such file), '/System/Volumes/Preboot/Cryptexes/OS@rpath/libjpeg.8.dylib' (no such file), '/Users/jeong-geun-o/miniconda3/lib/python3.10/site-packages/torchvision/../../../libjpeg.8.dylib' (no such file), '/Users/jeong-geun-o/miniconda3/lib/python3.10/site-packages/torchvision/../../../libjpeg.8.dylib' (no such file), '/Users/jeong-geun-o/miniconda3/lib/python3.10/lib-dynload/../../libjpeg.8.dylib' (no such file), '/Users/jeong-geun-o/miniconda3/bin/../lib/libjpeg.8.dylib' (no such file), '/usr/local/lib/libjpeg.8.dylib' (no such file), '/usr/lib/libjpeg.8.dylib' (no such file, not in dyld cache)\n",
      "  warn(f\"Failed to load image Python extension: {e}\")\n"
     ]
    }
   ],
   "source": [
    "from torch import optim\n",
    "from torch.optim.adam import Adam\n",
    "\n",
    "import torch\n",
    "import torch.nn as nn\n",
    "\n",
    "\n",
    "import torchvision.transforms as transforms\n",
    "import torchvision.datasets as datasets\n",
    "import torchvision.models as models\n",
    "import pandas as pd\n",
    "\n",
    "\n",
    "import datetime"
   ]
  },
  {
   "attachments": {},
   "cell_type": "markdown",
   "metadata": {},
   "source": [
    "# load data"
   ]
  },
  {
   "attachments": {},
   "cell_type": "markdown",
   "metadata": {},
   "source": [
    "### define directory path"
   ]
  },
  {
   "cell_type": "code",
   "execution_count": 2,
   "metadata": {},
   "outputs": [],
   "source": [
    "import os\n",
    "import shutil\n",
    "\n",
    "# 데이터셋 경로 설정하기\n",
    "dir = \"./usg1_dataset/\"\n",
    "\n",
    "dataset_path = './usg1_dataset/train_images/'\n",
    "train_copy_dir = './usg1_dataset/train_copy/'\n",
    "test_dir = './usg1_dataset/test_images/'\n",
    "\n",
    "image_dir = dir+'train_images/'\n",
    "train_csv_dir = dir+'train.csv'\n",
    "\n",
    "split_label_dir = dir + 'train_split_label/'"
   ]
  },
  {
   "attachments": {},
   "cell_type": "markdown",
   "metadata": {},
   "source": [
    "### split train/valid/test"
   ]
  },
  {
   "cell_type": "code",
   "execution_count": 3,
   "metadata": {},
   "outputs": [],
   "source": [
    "os.makedirs(split_label_dir, exist_ok=True)\n",
    "\n",
    "full_train_dir = split_label_dir + 'full/'\n",
    "train_dir = split_label_dir + 'train/'\n",
    "valid_dir = split_label_dir + 'valid/'\n",
    "test_dir = split_label_dir + 'test/'\n",
    "\n",
    "os.makedirs(split_label_dir + '/full', exist_ok=True)\n",
    "os.makedirs(split_label_dir + '/train', exist_ok=True)\n",
    "os.makedirs(split_label_dir + '/valid', exist_ok=True)\n",
    "os.makedirs(split_label_dir + '/test', exist_ok=True)\n",
    "\n",
    "\n",
    "shutil.rmtree(full_train_dir)\n",
    "shutil.rmtree(train_dir)\n",
    "shutil.rmtree(valid_dir)\n",
    "shutil.rmtree(test_dir)\n",
    "\n",
    "\n",
    "os.makedirs(split_label_dir + '/full', exist_ok=True)\n",
    "os.makedirs(split_label_dir + '/train', exist_ok=True)\n",
    "os.makedirs(split_label_dir + '/valid', exist_ok=True)\n",
    "os.makedirs(split_label_dir + '/test', exist_ok=True)\n",
    "\n",
    "\n",
    "# 레이블 이름 설정하기\n",
    "train_labels = pd.read_csv(train_csv_dir)\n",
    "labels = train_labels['label'].to_list() # 레이블 리스트\n",
    "labels_str = []\n",
    "for label in labels:\n",
    "    labels_str.append(str(label))\n",
    "\n",
    "# 하위 폴더 생성하기\n",
    "for label in labels_str:\n",
    "    os.makedirs(full_train_dir + label, exist_ok=True)\n",
    "    os.makedirs(train_dir + label, exist_ok=True)\n",
    "    os.makedirs(valid_dir + label, exist_ok=True)"
   ]
  },
  {
   "cell_type": "code",
   "execution_count": 4,
   "metadata": {},
   "outputs": [
    {
     "data": {
      "text/plain": [
       "0    3820\n",
       "1    1280\n",
       "2    1409\n",
       "3    1778\n",
       "4     720\n",
       "5     768\n",
       "6    1436\n",
       "7     506\n",
       "8     707\n",
       "9     292\n",
       "Name: label, dtype: int64"
      ]
     },
     "execution_count": 4,
     "metadata": {},
     "output_type": "execute_result"
    }
   ],
   "source": [
    "train_labels['label'].value_counts().sort_index()"
   ]
  },
  {
   "attachments": {},
   "cell_type": "markdown",
   "metadata": {},
   "source": [
    "### copy : train, test"
   ]
  },
  {
   "cell_type": "code",
   "execution_count": 5,
   "metadata": {},
   "outputs": [],
   "source": [
    "import os\n",
    "from natsort import natsorted\n",
    "\n",
    "# 파일 이름 변경하기 \"\"\n",
    "\n",
    "# 1) copy : train_images => train_copy (and test)\n",
    "\n",
    "# train\n",
    "#os.makedirs(train_copy_dir)\n",
    "shutil.rmtree(train_copy_dir)\n",
    "os.makedirs(train_copy_dir)\n",
    "\n",
    "filenames = natsorted(os.listdir(image_dir))\n",
    "for filename in filenames:\n",
    "    if filename.endswith('.jpg'):  # 변경할 파일 확장자 지정\n",
    "\n",
    "        name = os.path.join(image_dir, filename)\n",
    "        shutil.copy(name, train_copy_dir)\n",
    "\n",
    "\n",
    "# test\n",
    "test_dir = './usg1_dataset/test_images/'\n",
    "split_test_dir = split_label_dir + 'test/'\n",
    "\n",
    "test_filenames = natsorted(os.listdir(test_dir))\n",
    "\n",
    "for filename in test_filenames:\n",
    "    if filename.endswith('.jpg'):  # 변경할 파일 확장자 지정\n",
    "\n",
    "        name = os.path.join(test_dir, filename)\n",
    "        shutil.copy(name, split_test_dir)"
   ]
  },
  {
   "attachments": {},
   "cell_type": "markdown",
   "metadata": {},
   "source": [
    "### rename : train"
   ]
  },
  {
   "cell_type": "code",
   "execution_count": 6,
   "metadata": {},
   "outputs": [],
   "source": [
    "filenames = natsorted(os.listdir(train_copy_dir))\n",
    "\n",
    "# 2) rename\n",
    "for idx, filename in enumerate(filenames):\n",
    "        label = labels_str[idx]\n",
    "\n",
    "        name = os.path.join(train_copy_dir, filename)\n",
    "        labeled_name = os.path.join(train_copy_dir, os.path.splitext(filename)[0]+ '_' +label+'.jpg')\n",
    "        os.rename(name, labeled_name)"
   ]
  },
  {
   "attachments": {},
   "cell_type": "markdown",
   "metadata": {},
   "source": [
    "### split : train, valid"
   ]
  },
  {
   "cell_type": "code",
   "execution_count": 7,
   "metadata": {},
   "outputs": [
    {
     "name": "stdout",
     "output_type": "stream",
     "text": [
      "train\n",
      " ['000000_1.jpg', '000001_8.jpg', '000002_0.jpg', '000003_1.jpg', '000004_8.jpg']\n",
      "valid\n",
      " ['000008_9.jpg', '000033_6.jpg', '000047_4.jpg', '000050_0.jpg', '000083_6.jpg']\n"
     ]
    }
   ],
   "source": [
    "# 2) split \n",
    "\n",
    "# train / valid\n",
    "from sklearn.model_selection import train_test_split\n",
    "\n",
    "filenames = natsorted(os.listdir(train_copy_dir))\n",
    "\n",
    "train_filenames, valid_filenames = train_test_split(filenames, test_size=0.05, random_state=42)\n",
    "\n",
    "train_filenames = natsorted(train_filenames)\n",
    "valid_filenames = natsorted(valid_filenames)\n",
    "\n",
    "print('train\\n',train_filenames[:5])\n",
    "print('valid\\n',valid_filenames[:5])"
   ]
  },
  {
   "cell_type": "code",
   "execution_count": 8,
   "metadata": {},
   "outputs": [
    {
     "data": {
      "text/plain": [
       "12716"
      ]
     },
     "execution_count": 8,
     "metadata": {},
     "output_type": "execute_result"
    }
   ],
   "source": [
    "len(filenames)"
   ]
  },
  {
   "cell_type": "code",
   "execution_count": 9,
   "metadata": {},
   "outputs": [],
   "source": [
    "# 이미지 파일 이동하기\n",
    "\n",
    "# train\n",
    "for file in train_filenames:\n",
    "    if file.endswith('.jpg'):\n",
    "        filename = os.path.splitext(file)[0]\n",
    "        label = filename.split('_')[1]\n",
    "        shutil.copy(train_copy_dir+ '/' +file, train_dir + label + '/' + file)\n",
    "\n",
    "# valid\n",
    "for file in valid_filenames:\n",
    "    if file.endswith('.jpg'):\n",
    "        filename = os.path.splitext(file)[0]\n",
    "        label = filename.split('_')[1]\n",
    "        shutil.copy(train_copy_dir+ '/' +file, valid_dir + label + '/' + file)\n",
    "\n",
    "\n",
    "# full train\n",
    "for file in filenames:\n",
    "    if file.endswith('.jpg'):\n",
    "        filename = os.path.splitext(file)[0]\n",
    "        label = filename.split('_')[1]\n",
    "        shutil.copy(train_copy_dir+ '/' +file, full_train_dir + label + '/' + file)"
   ]
  },
  {
   "attachments": {},
   "cell_type": "markdown",
   "metadata": {},
   "source": [
    "# Model"
   ]
  },
  {
   "attachments": {},
   "cell_type": "markdown",
   "metadata": {},
   "source": [
    "### transforms"
   ]
  },
  {
   "cell_type": "code",
   "execution_count": 10,
   "metadata": {},
   "outputs": [],
   "source": [
    "import tqdm\n",
    "\n",
    "from torchvision.transforms import Compose, ToTensor, Resize\n",
    "from torchvision.transforms import RandomHorizontalFlip, RandomCrop, Normalize, RandomVerticalFlip, RandomRotation, RandomResizedCrop, RandomGrayscale, RandomSolarize\n",
    "from torch.optim.adam import Adam\n",
    "\n",
    "transforms = Compose([\n",
    "   Resize(224),\n",
    "   RandomCrop((224, 224), padding=4),\n",
    "   #RandomGrayscale(p=0.75),\n",
    "   #RandomSolarize,\n",
    "   #RandomVerticalFlip(), # 상하반전\n",
    "   # RandomRotation(180), # 회전\n",
    "   RandomHorizontalFlip(p=0.5), # 좌우반전\n",
    "   ToTensor(),\n",
    "   Normalize(mean=(0.4914, 0.4822, 0.4465), std=(0.247, 0.243, 0.261))\n",
    "])"
   ]
  },
  {
   "attachments": {},
   "cell_type": "markdown",
   "metadata": {},
   "source": [
    "### load DataLoader"
   ]
  },
  {
   "cell_type": "code",
   "execution_count": 11,
   "metadata": {},
   "outputs": [],
   "source": [
    "# parameter\n",
    "\n",
    "def define_dataset(dir):\n",
    "    dataset = datasets.ImageFolder(root=dir\n",
    "                                   ,transform=transforms)\n",
    "    \n",
    "    return dataset\n",
    "\n",
    "\n",
    "def load_data(dataset, batch_size):\n",
    "    loader = torch.utils.data.DataLoader(dataset=dataset,\n",
    "                                         batch_size=batch_size,\n",
    "                                         shuffle=True)\n",
    "    \n",
    "    return loader"
   ]
  },
  {
   "attachments": {},
   "cell_type": "markdown",
   "metadata": {},
   "source": [
    "### Define model"
   ]
  },
  {
   "cell_type": "code",
   "execution_count": 12,
   "metadata": {},
   "outputs": [
    {
     "name": "stderr",
     "output_type": "stream",
     "text": [
      "/Users/jeong-geun-o/miniconda3/lib/python3.10/site-packages/torchvision/models/_utils.py:208: UserWarning: The parameter 'pretrained' is deprecated since 0.13 and may be removed in the future, please use 'weights' instead.\n",
      "  warnings.warn(\n",
      "/Users/jeong-geun-o/miniconda3/lib/python3.10/site-packages/torchvision/models/_utils.py:223: UserWarning: Arguments other than a weight enum or `None` for 'weights' are deprecated since 0.13 and may be removed in the future. The current behavior is equivalent to passing `weights=ResNet18_Weights.IMAGENET1K_V1`. You can also use `weights=ResNet18_Weights.DEFAULT` to get the most up-to-date weights.\n",
      "  warnings.warn(msg)\n",
      "epoch:1 loss:0.6339746713638306: 100%|██████████| 199/199 [00:44<00:00,  4.44it/s] \n",
      "epoch:2 loss:0.1656769961118698: 100%|██████████| 199/199 [00:44<00:00,  4.48it/s] \n",
      "epoch:3 loss:0.06693867594003677: 100%|██████████| 199/199 [00:44<00:00,  4.48it/s]\n",
      "epoch:4 loss:0.42704111337661743: 100%|██████████| 199/199 [00:44<00:00,  4.48it/s]\n",
      "epoch:5 loss:0.28627797961235046: 100%|██████████| 199/199 [00:44<00:00,  4.49it/s]\n",
      "epoch:6 loss:0.18203791975975037: 100%|██████████| 199/199 [00:44<00:00,  4.49it/s]\n",
      "epoch:7 loss:0.15055111050605774: 100%|██████████| 199/199 [00:44<00:00,  4.49it/s]\n",
      "epoch:8 loss:0.0781390517950058: 100%|██████████| 199/199 [00:44<00:00,  4.49it/s] \n",
      "epoch:9 loss:0.2358892410993576: 100%|██████████| 199/199 [00:44<00:00,  4.49it/s]  \n",
      "epoch:10 loss:0.15246999263763428: 100%|██████████| 199/199 [00:44<00:00,  4.49it/s] \n",
      "epoch:11 loss:0.11692273616790771: 100%|██████████| 199/199 [00:44<00:00,  4.46it/s] \n",
      "epoch:12 loss:0.13653726875782013: 100%|██████████| 199/199 [00:44<00:00,  4.46it/s]\n",
      "epoch:13 loss:0.1339235156774521: 100%|██████████| 199/199 [00:44<00:00,  4.46it/s]  \n",
      "epoch:14 loss:0.1377747654914856: 100%|██████████| 199/199 [00:44<00:00,  4.46it/s] \n",
      "epoch:15 loss:0.2253180891275406: 100%|██████████| 199/199 [00:44<00:00,  4.44it/s]  \n",
      "epoch:16 loss:0.13432571291923523: 100%|██████████| 199/199 [00:44<00:00,  4.44it/s] \n",
      "epoch:17 loss:0.18719586730003357: 100%|██████████| 199/199 [00:44<00:00,  4.44it/s] \n",
      "epoch:18 loss:0.055999573320150375: 100%|██████████| 199/199 [00:44<00:00,  4.44it/s]\n",
      "epoch:19 loss:0.09654200077056885: 100%|██████████| 199/199 [00:44<00:00,  4.44it/s] \n",
      "epoch:20 loss:0.13830125331878662: 100%|██████████| 199/199 [00:44<00:00,  4.44it/s] \n",
      "epoch:21 loss:0.1839895248413086: 100%|██████████| 199/199 [00:44<00:00,  4.44it/s]  \n",
      "epoch:22 loss:0.28034159541130066: 100%|██████████| 199/199 [00:44<00:00,  4.44it/s] \n",
      "epoch:23 loss:0.2261509746313095: 100%|██████████| 199/199 [00:44<00:00,  4.44it/s]  \n",
      "epoch:24 loss:0.14650912582874298: 100%|██████████| 199/199 [00:44<00:00,  4.43it/s] \n",
      "epoch:25 loss:0.0617506317794323: 100%|██████████| 199/199 [00:44<00:00,  4.43it/s]  \n",
      "epoch:26 loss:0.098056361079216: 100%|██████████| 199/199 [00:45<00:00,  4.39it/s]   \n",
      "epoch:27 loss:0.16291625797748566: 100%|██████████| 199/199 [00:44<00:00,  4.42it/s] \n",
      "epoch:28 loss:0.059566281735897064: 100%|██████████| 199/199 [00:44<00:00,  4.45it/s]\n",
      "epoch:29 loss:0.08059539645910263: 100%|██████████| 199/199 [00:44<00:00,  4.45it/s] \n",
      "epoch:30 loss:0.1976931393146515: 100%|██████████| 199/199 [00:44<00:00,  4.45it/s]  \n"
     ]
    },
    {
     "name": "stdout",
     "output_type": "stream",
     "text": [
      "2023-03-12_resnet18 at_(lr=0.001_epochs=30_batch=64)\n"
     ]
    }
   ],
   "source": [
    "import torch\n",
    "import torch.nn as nn\n",
    "\n",
    "from torchvision.models.resnet import resnet18, resnet34, resnet50, resnet152\n",
    "from torchvision.models.densenet import densenet121\n",
    "\n",
    "device = torch.device('mps')\n",
    "\n",
    "net = resnet18\n",
    "model = net(pretrained=True) # ❶ resnet18 모델 객체 생성\n",
    "\n",
    "model.to(device)\n",
    "\n",
    "\n",
    "# parameter\n",
    "lr = 1e-3\n",
    "epochs = 30\n",
    "batch_size = 64\n",
    "\n",
    "\n",
    "optim = Adam(model.parameters(), lr=lr)\n",
    "\n",
    "# dataloader 정의 : full_train_dir, train_dir, valid_dir\n",
    "dir = full_train_dir\n",
    "loader = load_data(define_dataset(dir), batch_size)\n",
    "\n",
    "for epoch in range(epochs):\n",
    "   iterator = tqdm.tqdm(loader)\n",
    "   for data, label in iterator:\n",
    "       # 최적화를 위해 기울기를 초기화\n",
    "       optim.zero_grad()\n",
    "\n",
    "       # 모델의 예측값\n",
    "       preds = model(data.to(device))\n",
    "\n",
    "       # 손실 계산 및 역전파\n",
    "       loss = nn.CrossEntropyLoss()(preds, label.to(device))\n",
    "       loss.backward()\n",
    "       optim.step()\n",
    "\n",
    "       iterator.set_description(f\"epoch:{epoch+1} loss:{loss.item()}\")\n",
    "\n",
    "\n",
    "now = str(datetime.datetime.now())[:10]\n",
    "model_name = f\"{now}_{str(net)[10:21]}_(lr={lr}_epochs={epochs}_batch={batch_size})\"\n",
    "print(model_name)\n",
    "\n",
    "\n",
    "# save model\n",
    "torch.save(model.state_dict(), model_name+\".pth\")"
   ]
  },
  {
   "attachments": {},
   "cell_type": "markdown",
   "metadata": {},
   "source": [
    "### Accuracy"
   ]
  },
  {
   "cell_type": "code",
   "execution_count": 13,
   "metadata": {},
   "outputs": [
    {
     "name": "stdout",
     "output_type": "stream",
     "text": [
      "2023-03-12_resnet18 at_(lr=0.001_epochs=30_batch=64)\n",
      "Accuracy:0.960691823899371\n"
     ]
    }
   ],
   "source": [
    "valid_dataset = datasets.ImageFolder(root=valid_dir,\n",
    "                                      transform=transforms)\n",
    "\n",
    "valid_loader = torch.utils.data.DataLoader(dataset=valid_dataset,\n",
    "                                           batch_size=batch_size,\n",
    "                                           shuffle=True)\n",
    "\n",
    "\n",
    "\n",
    "\n",
    "print(model_name)\n",
    "model.load_state_dict(torch.load(model_name+\".pth\", map_location=device))\n",
    "\n",
    "\n",
    "num_corr = 0\n",
    "\n",
    "with torch.no_grad():\n",
    "   for data, label in valid_loader:\n",
    "\n",
    "       output = model(data.to(device))\n",
    "       preds = output.data.max(1)[1]\n",
    "       corr = preds.eq(label.to(device).data).sum().item()\n",
    "       num_corr += corr\n",
    "\n",
    "   print(f\"Accuracy:{num_corr/len(valid_dataset)}\")"
   ]
  },
  {
   "attachments": {},
   "cell_type": "markdown",
   "metadata": {},
   "source": [
    "### Submit"
   ]
  },
  {
   "cell_type": "code",
   "execution_count": 14,
   "metadata": {},
   "outputs": [],
   "source": [
    "from torch.utils.data import Dataset\n",
    "from PIL import Image\n",
    "\n",
    "class UnlabeledDataset(Dataset):\n",
    "    def __init__(self, data_path, transform=None):\n",
    "        self.data_path = data_path\n",
    "        self.transform = transform\n",
    "\n",
    "        self.filelist = natsorted(os.listdir(data_path))\n",
    "\n",
    "    def __len__(self):\n",
    "        return len(self.filelist)\n",
    "\n",
    "    def __getitem__(self, idx):\n",
    "        img_path = os.path.join(self.data_path, self.filelist[idx])\n",
    "        image = Image.open(img_path).convert('RGB')\n",
    "\n",
    "        if self.transform:\n",
    "            image = self.transform(image)\n",
    "\n",
    "        return image"
   ]
  },
  {
   "cell_type": "code",
   "execution_count": 15,
   "metadata": {},
   "outputs": [
    {
     "data": {
      "text/plain": [
       "'2023-03-12_resnet18 at_(lr=0.001_epochs=30_batch=64)'"
      ]
     },
     "execution_count": 15,
     "metadata": {},
     "output_type": "execute_result"
    }
   ],
   "source": [
    "test_dataset = UnlabeledDataset(data_path=split_test_dir, transform=transforms)\n",
    "\n",
    "test_loader = torch.utils.data.DataLoader(dataset=test_dataset,\n",
    "                                           batch_size=batch_size,\n",
    "                                           shuffle=False)\n",
    "\n",
    "\n",
    "\n",
    "# predict\n",
    "model.load_state_dict(torch.load(model_name+\".pth\", map_location=device))\n",
    "\n",
    "sub = []\n",
    "\n",
    "with torch.no_grad():\n",
    "   for data in test_loader:\n",
    "\n",
    "       output = model(data.to(device))\n",
    "       preds = output.data.max(1)[1]\n",
    "\n",
    "       preds = preds.cpu()\n",
    "       preds = preds.numpy()\n",
    "\n",
    "       for i in range(len(preds)):\n",
    "        sub.append(preds[i])\n",
    "\n",
    "submit_df = pd.DataFrame(data=natsorted(os.listdir(split_test_dir)), columns=['image_name'])\n",
    "submit_df['label'] = sub\n",
    "submit_df.to_csv(f'./submit/{model_name}.csv')\n",
    "\n",
    "model_name"
   ]
  }
 ],
 "metadata": {
  "kernelspec": {
   "display_name": "base",
   "language": "python",
   "name": "python3"
  },
  "language_info": {
   "codemirror_mode": {
    "name": "ipython",
    "version": 3
   },
   "file_extension": ".py",
   "mimetype": "text/x-python",
   "name": "python",
   "nbconvert_exporter": "python",
   "pygments_lexer": "ipython3",
   "version": "3.10.9"
  },
  "orig_nbformat": 4
 },
 "nbformat": 4,
 "nbformat_minor": 2
}
