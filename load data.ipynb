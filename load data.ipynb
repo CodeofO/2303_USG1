{
 "cells": [
  {
   "attachments": {},
   "cell_type": "markdown",
   "metadata": {},
   "source": [
    "## import"
   ]
  },
  {
   "cell_type": "code",
   "execution_count": 1,
   "metadata": {},
   "outputs": [
    {
     "name": "stderr",
     "output_type": "stream",
     "text": [
      "/Users/jeong-geun-o/miniconda3/lib/python3.10/site-packages/torchvision/io/image.py:13: UserWarning: Failed to load image Python extension: dlopen(/Users/jeong-geun-o/miniconda3/lib/python3.10/site-packages/torchvision/image.so, 0x0006): Library not loaded: @rpath/libjpeg.8.dylib\n",
      "  Referenced from: <BE0CCD9A-269A-30E2-A23C-DA45E89EBB1F> /Users/jeong-geun-o/miniconda3/lib/python3.10/site-packages/torchvision/image.so\n",
      "  Reason: tried: '/Users/jeong-geun-o/miniconda3/lib/python3.10/site-packages/torchvision/../../../libjpeg.8.dylib' (no such file), '/Users/jeong-geun-o/miniconda3/lib/python3.10/site-packages/torchvision/../../../libjpeg.8.dylib' (no such file), '/Users/jeong-geun-o/miniconda3/lib/python3.10/lib-dynload/../../libjpeg.8.dylib' (no such file), '/Users/jeong-geun-o/miniconda3/bin/../lib/libjpeg.8.dylib' (no such file), '/System/Volumes/Preboot/Cryptexes/OS@rpath/libjpeg.8.dylib' (no such file), '/Users/jeong-geun-o/miniconda3/lib/python3.10/site-packages/torchvision/../../../libjpeg.8.dylib' (no such file), '/Users/jeong-geun-o/miniconda3/lib/python3.10/site-packages/torchvision/../../../libjpeg.8.dylib' (no such file), '/Users/jeong-geun-o/miniconda3/lib/python3.10/lib-dynload/../../libjpeg.8.dylib' (no such file), '/Users/jeong-geun-o/miniconda3/bin/../lib/libjpeg.8.dylib' (no such file), '/usr/local/lib/libjpeg.8.dylib' (no such file), '/usr/lib/libjpeg.8.dylib' (no such file, not in dyld cache)\n",
      "  warn(f\"Failed to load image Python extension: {e}\")\n"
     ]
    }
   ],
   "source": [
    "import torch\n",
    "import torch.nn as nn\n",
    "import torchvision.transforms as transforms\n",
    "import torchvision.datasets as datasets\n",
    "import torchvision.models as models\n",
    "import pandas as pd"
   ]
  },
  {
   "cell_type": "code",
   "execution_count": 61,
   "metadata": {},
   "outputs": [],
   "source": [
    "import os\n",
    "import shutil\n",
    "\n",
    "# 데이터셋 경로 설정하기\n",
    "dataset_path = './usg1_dataset/train_images/'\n",
    "dir = \"./usg1_dataset/\"\n",
    "image_dir = dir+'train_images/'\n",
    "train_csv_dir = dir+'train.csv'\n",
    "train_copy_dir = './usg1_dataset/train_copy/'\n",
    "test_dir = './usg1_dataset/test_images/'\n",
    "split_label_dir = dir + 'train_split_label/'"
   ]
  },
  {
   "cell_type": "code",
   "execution_count": 51,
   "metadata": {},
   "outputs": [],
   "source": [
    "os.makedirs(split_label_dir, exist_ok=True)\n",
    "\n",
    "train_dir = split_label_dir + '/train/'\n",
    "valid_dir = split_label_dir + '/valid/'\n",
    "test_dir = split_label_dir + '/test/'\n",
    "\n",
    "os.makedirs(split_label_dir + '/train', exist_ok=True)\n",
    "os.makedirs(split_label_dir + '/valid', exist_ok=True)\n",
    "os.makedirs(split_label_dir + '/test', exist_ok=True)\n",
    "\n",
    "\n",
    "shutil.rmtree(train_dir)\n",
    "shutil.rmtree(valid_dir)\n",
    "shutil.rmtree(test_dir)\n",
    "\n",
    "os.makedirs(split_label_dir + '/train', exist_ok=True)\n",
    "os.makedirs(split_label_dir + '/valid', exist_ok=True)\n",
    "os.makedirs(split_label_dir + '/test', exist_ok=True)\n",
    "\n",
    "\n",
    "# 레이블 이름 설정하기\n",
    "train_labels = pd.read_csv(train_csv_dir)\n",
    "labels = train_labels['label'].to_list() # 레이블 리스트\n",
    "labels_str = []\n",
    "for label in labels:\n",
    "    labels_str.append(str(label))\n",
    "\n",
    "# 하위 폴더 생성하기\n",
    "for label in labels_str:\n",
    "    os.makedirs(train_dir + label, exist_ok=True)\n",
    "    os.makedirs(valid_dir + label, exist_ok=True)"
   ]
  },
  {
   "cell_type": "code",
   "execution_count": 57,
   "metadata": {},
   "outputs": [],
   "source": [
    "import os\n",
    "\n",
    "# 파일 이름 변경하기 \"\"\n",
    "\n",
    "# 1) copy : train_images => train_copy (and test)\n",
    "\n",
    "# train\n",
    "\n",
    "#os.makedirs(train_copy_dir)\n",
    "shutil.rmtree(train_copy_dir)\n",
    "os.makedirs(train_copy_dir)\n",
    "\n",
    "filenames = natsorted(os.listdir(image_dir))\n",
    "for filename in filenames:\n",
    "    if filename.endswith('.jpg'):  # 변경할 파일 확장자 지정\n",
    "\n",
    "        name = os.path.join(image_dir, filename)\n",
    "        shutil.copy(name, train_copy_dir)\n",
    "\n",
    "\n",
    "# test\n",
    "\n",
    "split_test_dir = split_label_dir + 'test/'\n",
    "\n",
    "test_filenames = natsorted(os.listdir(test_dir))\n",
    "\n",
    "for filename in test_filenames:\n",
    "    if filename.endswith('.jpg'):  # 변경할 파일 확장자 지정\n",
    "\n",
    "        name = os.path.join(test_dir, filename)\n",
    "        shutil.copy(name, split_test_dir)"
   ]
  },
  {
   "cell_type": "code",
   "execution_count": 63,
   "metadata": {},
   "outputs": [],
   "source": [
    "# test\n",
    "\n",
    "split_test_dir = split_label_dir + 'test/'\n",
    "#os.makedirs(test_copy_dir)\n",
    "shutil.rmtree(test_copy_dir)\n",
    "os.makedirs(test_copy_dir)\n",
    "\n",
    "test_filenames = natsorted(os.listdir(test_dir))\n",
    "\n",
    "for filename in test_filenames:\n",
    "    if filename.endswith('.jpg'):  # 변경할 파일 확장자 지정\n",
    "\n",
    "        name = os.path.join(test_dir, filename)\n",
    "        shutil.copy(name, split_test_dir)"
   ]
  },
  {
   "cell_type": "code",
   "execution_count": 48,
   "metadata": {},
   "outputs": [],
   "source": [
    "# 2) rename\n",
    "\n",
    "from natsort import natsorted\n",
    "\n",
    "filenames = natsorted(os.listdir(train_copy_dir))\n",
    "for idx, filename in enumerate(filenames):\n",
    "        label = labels_str[idx]\n",
    "\n",
    "        name = os.path.join(train_copy_dir, filename)\n",
    "        labeled_name = os.path.join(train_copy_dir, os.path.splitext(filename)[0]+ '_' +label+'.jpg')\n",
    "        os.rename(name, labeled_name)"
   ]
  },
  {
   "cell_type": "code",
   "execution_count": 22,
   "metadata": {},
   "outputs": [
    {
     "name": "stdout",
     "output_type": "stream",
     "text": [
      "train\n",
      " ['000000_1.jpg', '000001_8.jpg', '000002_0.jpg', '000003_1.jpg', '000004_8.jpg']\n",
      "valid\n",
      " ['000008_9.jpg', '000014_1.jpg', '000019_0.jpg', '000031_0.jpg', '000033_6.jpg']\n"
     ]
    }
   ],
   "source": [
    "# 2) split \n",
    "from sklearn.model_selection import train_test_split\n",
    "\n",
    "filenames = natsorted(os.listdir(train_copy_dir))\n",
    "\n",
    "train_filenames, valid_filenames = train_test_split(filenames, test_size=0.1, random_state=42)\n",
    "\n",
    "train_filenames = natsorted(train_filenames)\n",
    "valid_filenames = natsorted(valid_filenames)\n",
    "\n",
    "print('train\\n',train_filenames[:5])\n",
    "print('valid\\n',valid_filenames[:5])"
   ]
  },
  {
   "cell_type": "code",
   "execution_count": 23,
   "metadata": {},
   "outputs": [],
   "source": [
    "# 이미지 파일 이동하기\n",
    "\n",
    "# train\n",
    "for file in train_filenames:\n",
    "    if file.endswith('.jpg'):\n",
    "        filename = os.path.splitext(file)[0]\n",
    "        label = filename.split('_')[1]\n",
    "        shutil.copy(train_copy_dir+ '/' +file, train_dir + label + '/' + file)\n",
    "\n",
    "# valid\n",
    "for file in valid_filenames:\n",
    "    if file.endswith('.jpg'):\n",
    "        filename = os.path.splitext(file)[0]\n",
    "        label = filename.split('_')[1]\n",
    "        shutil.copy(train_copy_dir+ '/' +file, valid_dir + label + '/' + file)"
   ]
  },
  {
   "cell_type": "code",
   "execution_count": 24,
   "metadata": {},
   "outputs": [],
   "source": [
    "# 데이터셋 불러오기\n",
    "train_dataset = datasets.ImageFolder(root=train_dir,\n",
    "                                      transform=transforms.ToTensor())\n",
    "\n",
    "valid_dataset = datasets.ImageFolder(root=valid_dir,\n",
    "                                      transform=transforms.ToTensor())"
   ]
  },
  {
   "cell_type": "code",
   "execution_count": 25,
   "metadata": {},
   "outputs": [],
   "source": [
    "# 데이터로더 생성하기\n",
    "batch_size = 8\n",
    "train_loader = torch.utils.data.DataLoader(dataset=train_dataset,\n",
    "                                           batch_size=batch_size,\n",
    "                                           shuffle=True)\n",
    "\n",
    "valid_loader = torch.utils.data.DataLoader(dataset=valid_dataset,\n",
    "                                           batch_size=batch_size,\n",
    "                                           shuffle=True)"
   ]
  }
 ],
 "metadata": {
  "kernelspec": {
   "display_name": "base",
   "language": "python",
   "name": "python3"
  },
  "language_info": {
   "codemirror_mode": {
    "name": "ipython",
    "version": 3
   },
   "file_extension": ".py",
   "mimetype": "text/x-python",
   "name": "python",
   "nbconvert_exporter": "python",
   "pygments_lexer": "ipython3",
   "version": "3.10.9"
  },
  "orig_nbformat": 4
 },
 "nbformat": 4,
 "nbformat_minor": 2
}
